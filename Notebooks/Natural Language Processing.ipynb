{
 "cells": [
  {
   "cell_type": "markdown",
   "id": "c1615755",
   "metadata": {},
   "source": [
    "# Natural Language Processing"
   ]
  },
  {
   "cell_type": "markdown",
   "id": "c12a3c5d",
   "metadata": {},
   "source": [
    "## Classify Messages as Spam or Ham"
   ]
  },
  {
   "cell_type": "markdown",
   "id": "e24b50c5",
   "metadata": {},
   "source": [
    "Let’s start an NLP use case using a dataset coming from UCI datasets   containing a collection of more than 5000 SMS phone messages. The objective of this use case is to train a machine learning model on labelled data (ham or spam) and use it to classify unlabeled messages as spam or ham. "
   ]
  },
  {
   "cell_type": "code",
   "execution_count": 3,
   "id": "48e63a17",
   "metadata": {},
   "outputs": [],
   "source": [
    "# Import libraries\n",
    "import nltk \n",
    "\n",
    "# Download the necessary datasets\n",
    "#nltk.download() "
   ]
  },
  {
   "cell_type": "code",
   "execution_count": 7,
   "id": "e44bfe27",
   "metadata": {},
   "outputs": [
    {
     "name": "stdout",
     "output_type": "stream",
     "text": [
      "5574\n"
     ]
    }
   ],
   "source": [
    "# Let's list of all the lines of text messages using rstrip\n",
    "messages = [line.rstrip() for line in open('')]\n",
    "print(len(messages))"
   ]
  },
  {
   "cell_type": "code",
   "execution_count": 8,
   "id": "b8baac03",
   "metadata": {},
   "outputs": [
    {
     "name": "stdout",
     "output_type": "stream",
     "text": [
      "0 ham\tGo until jurong point, crazy.. Available only in bugis n great world la e buffet... Cine there got amore wat...\n",
      "\n",
      "\n",
      "1 ham\tOk lar... Joking wif u oni...\n",
      "\n",
      "\n",
      "2 spam\tFree entry in 2 a wkly comp to win FA Cup final tkts 21st May 2005. Text FA to 87121 to receive entry question(std txt rate)T&C's apply 08452810075over18's\n",
      "\n",
      "\n",
      "3 ham\tU dun say so early hor... U c already then say...\n",
      "\n",
      "\n",
      "4 ham\tNah I don't think he goes to usf, he lives around here though\n",
      "\n",
      "\n"
     ]
    }
   ],
   "source": [
    "# Print the first 5 messages\n",
    "for message_no, message in enumerate(messages[:5]):\n",
    "    print(message_no, message)\n",
    "    print('\\n')"
   ]
  },
  {
   "cell_type": "code",
   "execution_count": 11,
   "id": "64ceed58",
   "metadata": {},
   "outputs": [
    {
     "data": {
      "text/html": [
       "<div>\n",
       "<style scoped>\n",
       "    .dataframe tbody tr th:only-of-type {\n",
       "        vertical-align: middle;\n",
       "    }\n",
       "\n",
       "    .dataframe tbody tr th {\n",
       "        vertical-align: top;\n",
       "    }\n",
       "\n",
       "    .dataframe thead th {\n",
       "        text-align: right;\n",
       "    }\n",
       "</style>\n",
       "<table border=\"1\" class=\"dataframe\">\n",
       "  <thead>\n",
       "    <tr style=\"text-align: right;\">\n",
       "      <th></th>\n",
       "      <th>label</th>\n",
       "      <th>message</th>\n",
       "    </tr>\n",
       "  </thead>\n",
       "  <tbody>\n",
       "    <tr>\n",
       "      <th>0</th>\n",
       "      <td>ham</td>\n",
       "      <td>Go until jurong point, crazy.. Available only ...</td>\n",
       "    </tr>\n",
       "    <tr>\n",
       "      <th>1</th>\n",
       "      <td>ham</td>\n",
       "      <td>Ok lar... Joking wif u oni...</td>\n",
       "    </tr>\n",
       "    <tr>\n",
       "      <th>2</th>\n",
       "      <td>spam</td>\n",
       "      <td>Free entry in 2 a wkly comp to win FA Cup fina...</td>\n",
       "    </tr>\n",
       "    <tr>\n",
       "      <th>3</th>\n",
       "      <td>ham</td>\n",
       "      <td>U dun say so early hor... U c already then say...</td>\n",
       "    </tr>\n",
       "    <tr>\n",
       "      <th>4</th>\n",
       "      <td>ham</td>\n",
       "      <td>Nah I don't think he goes to usf, he lives aro...</td>\n",
       "    </tr>\n",
       "  </tbody>\n",
       "</table>\n",
       "</div>"
      ],
      "text/plain": [
       "  label                                            message\n",
       "0   ham  Go until jurong point, crazy.. Available only ...\n",
       "1   ham                      Ok lar... Joking wif u oni...\n",
       "2  spam  Free entry in 2 a wkly comp to win FA Cup fina...\n",
       "3   ham  U dun say so early hor... U c already then say...\n",
       "4   ham  Nah I don't think he goes to usf, he lives aro..."
      ]
     },
     "execution_count": 11,
     "metadata": {},
     "output_type": "execute_result"
    }
   ],
   "source": [
    "# For convenient reasons, we will use Pandas, Matplotlib and Seaborn to manipulate and visualize data. \n",
    "import pandas as pd\n",
    "import numpy as np\n",
    "import matplotlib.pyplot as plt\n",
    "import seaborn as sns\n",
    "\n",
    "# Use read_csv \n",
    "messages = pd.read_csv('../data/datasets/SMSSpamCollection', sep='\\t', names= ['label', 'message'])\n",
    "\n",
    "messages.head()"
   ]
  },
  {
   "cell_type": "code",
   "execution_count": 12,
   "id": "4dd2d929",
   "metadata": {},
   "outputs": [
    {
     "data": {
      "text/html": [
       "<div>\n",
       "<style scoped>\n",
       "    .dataframe tbody tr th:only-of-type {\n",
       "        vertical-align: middle;\n",
       "    }\n",
       "\n",
       "    .dataframe tbody tr th {\n",
       "        vertical-align: top;\n",
       "    }\n",
       "\n",
       "    .dataframe thead tr th {\n",
       "        text-align: left;\n",
       "    }\n",
       "\n",
       "    .dataframe thead tr:last-of-type th {\n",
       "        text-align: right;\n",
       "    }\n",
       "</style>\n",
       "<table border=\"1\" class=\"dataframe\">\n",
       "  <thead>\n",
       "    <tr>\n",
       "      <th></th>\n",
       "      <th colspan=\"4\" halign=\"left\">message</th>\n",
       "    </tr>\n",
       "    <tr>\n",
       "      <th></th>\n",
       "      <th>count</th>\n",
       "      <th>unique</th>\n",
       "      <th>top</th>\n",
       "      <th>freq</th>\n",
       "    </tr>\n",
       "    <tr>\n",
       "      <th>label</th>\n",
       "      <th></th>\n",
       "      <th></th>\n",
       "      <th></th>\n",
       "      <th></th>\n",
       "    </tr>\n",
       "  </thead>\n",
       "  <tbody>\n",
       "    <tr>\n",
       "      <th>ham</th>\n",
       "      <td>4825</td>\n",
       "      <td>4516</td>\n",
       "      <td>Sorry, I'll call later</td>\n",
       "      <td>30</td>\n",
       "    </tr>\n",
       "    <tr>\n",
       "      <th>spam</th>\n",
       "      <td>747</td>\n",
       "      <td>653</td>\n",
       "      <td>Please call our customer service representativ...</td>\n",
       "      <td>4</td>\n",
       "    </tr>\n",
       "  </tbody>\n",
       "</table>\n",
       "</div>"
      ],
      "text/plain": [
       "      message                                                               \n",
       "        count unique                                                top freq\n",
       "label                                                                       \n",
       "ham      4825   4516                             Sorry, I'll call later   30\n",
       "spam      747    653  Please call our customer service representativ...    4"
      ]
     },
     "execution_count": 12,
     "metadata": {},
     "output_type": "execute_result"
    }
   ],
   "source": [
    "# We can start some descriptive analysis of the data and visualize them through plots.  \n",
    "messages.describe()\n",
    "messages.groupby('label').describe()"
   ]
  },
  {
   "cell_type": "code",
   "execution_count": 13,
   "id": "13e6884c",
   "metadata": {},
   "outputs": [
    {
     "data": {
      "text/html": [
       "<div>\n",
       "<style scoped>\n",
       "    .dataframe tbody tr th:only-of-type {\n",
       "        vertical-align: middle;\n",
       "    }\n",
       "\n",
       "    .dataframe tbody tr th {\n",
       "        vertical-align: top;\n",
       "    }\n",
       "\n",
       "    .dataframe thead th {\n",
       "        text-align: right;\n",
       "    }\n",
       "</style>\n",
       "<table border=\"1\" class=\"dataframe\">\n",
       "  <thead>\n",
       "    <tr style=\"text-align: right;\">\n",
       "      <th></th>\n",
       "      <th>label</th>\n",
       "      <th>message</th>\n",
       "      <th>length</th>\n",
       "    </tr>\n",
       "  </thead>\n",
       "  <tbody>\n",
       "    <tr>\n",
       "      <th>0</th>\n",
       "      <td>ham</td>\n",
       "      <td>Go until jurong point, crazy.. Available only ...</td>\n",
       "      <td>111</td>\n",
       "    </tr>\n",
       "    <tr>\n",
       "      <th>1</th>\n",
       "      <td>ham</td>\n",
       "      <td>Ok lar... Joking wif u oni...</td>\n",
       "      <td>29</td>\n",
       "    </tr>\n",
       "    <tr>\n",
       "      <th>2</th>\n",
       "      <td>spam</td>\n",
       "      <td>Free entry in 2 a wkly comp to win FA Cup fina...</td>\n",
       "      <td>155</td>\n",
       "    </tr>\n",
       "    <tr>\n",
       "      <th>3</th>\n",
       "      <td>ham</td>\n",
       "      <td>U dun say so early hor... U c already then say...</td>\n",
       "      <td>49</td>\n",
       "    </tr>\n",
       "    <tr>\n",
       "      <th>4</th>\n",
       "      <td>ham</td>\n",
       "      <td>Nah I don't think he goes to usf, he lives aro...</td>\n",
       "      <td>61</td>\n",
       "    </tr>\n",
       "  </tbody>\n",
       "</table>\n",
       "</div>"
      ],
      "text/plain": [
       "  label                                            message  length\n",
       "0   ham  Go until jurong point, crazy.. Available only ...     111\n",
       "1   ham                      Ok lar... Joking wif u oni...      29\n",
       "2  spam  Free entry in 2 a wkly comp to win FA Cup fina...     155\n",
       "3   ham  U dun say so early hor... U c already then say...      49\n",
       "4   ham  Nah I don't think he goes to usf, he lives aro...      61"
      ]
     },
     "execution_count": 13,
     "metadata": {},
     "output_type": "execute_result"
    }
   ],
   "source": [
    "# We add a new feature called length telling us how long the text messages are\n",
    "messages['length'] = messages['message'].apply(len)\n",
    "messages.head()"
   ]
  },
  {
   "cell_type": "code",
   "execution_count": 14,
   "id": "4e030b34",
   "metadata": {},
   "outputs": [
    {
     "data": {
      "text/plain": [
       "count    5572.000000\n",
       "mean       80.489950\n",
       "std        59.942907\n",
       "min         2.000000\n",
       "25%        36.000000\n",
       "50%        62.000000\n",
       "75%       122.000000\n",
       "max       910.000000\n",
       "Name: length, dtype: float64"
      ]
     },
     "execution_count": 14,
     "metadata": {},
     "output_type": "execute_result"
    },
    {
     "data": {
      "image/png": "[encoded data removed]",
      "text/plain": [
       "<Figure size 432x288 with 1 Axes>"
      ]
     },
     "metadata": {
      "needs_background": "light"
     },
     "output_type": "display_data"
    }
   ],
   "source": [
    "# Plot the frequency versus length of messages\n",
    "messages['length'].plot(bins=400, kind='hist')\n",
    "# Message length description\n",
    "messages.length.describe()"
   ]
  },
  {
   "cell_type": "code",
   "execution_count": 16,
   "id": "950e338f",
   "metadata": {},
   "outputs": [
    {
     "data": {
      "text/plain": [
       "\"For me the love should start with attraction.i should feel that I need her every time around me.she should be the first thing which comes in my thoughts.I would start the day and end it with her.she should be there every time I dream.love will be then when my every breath has her name.my life should happen around her.my life will be named to her.I would cry for her.will give all my happiness and take all her sorrows.I will be ready to fight with anyone for her.I will be in love when I will be doing the craziest things for her.love will be when I don't have to proove anyone that my girl is the most beautiful lady on the whole planet.I will always be singing praises for her.love will be when I start up making chicken curry and end up makiing sambar.life will be the most beautiful then.will get every morning and thank god for the day because she is with me.I would like to say a lot..will tell later..\""
      ]
     },
     "execution_count": 16,
     "metadata": {},
     "output_type": "execute_result"
    }
   ],
   "source": [
    "# Look at the message with 910 characters\n",
    "messages[messages['length'] == 910]['message'].iloc[0]\n"
   ]
  },
  {
   "cell_type": "code",
   "execution_count": 17,
   "id": "263fd5a2",
   "metadata": {},
   "outputs": [
    {
     "data": {
      "text/plain": [
       "'Ok'"
      ]
     },
     "execution_count": 17,
     "metadata": {},
     "output_type": "execute_result"
    }
   ],
   "source": [
    "# look at the message with 2 characters\n",
    "messages[messages['length'] == 2]['message'].iloc[0]"
   ]
  },
  {
   "cell_type": "code",
   "execution_count": 18,
   "id": "0bb0f7b9",
   "metadata": {},
   "outputs": [
    {
     "data": {
      "text/plain": [
       "array([<AxesSubplot:title={'center':'ham'}>,\n",
       "       <AxesSubplot:title={'center':'spam'}>], dtype=object)"
      ]
     },
     "execution_count": 18,
     "metadata": {},
     "output_type": "execute_result"
    },
    {
     "data": {
      "image/png": "[encoded data removed]",
      "text/plain": [
       "<Figure size 864x288 with 2 Axes>"
      ]
     },
     "metadata": {
      "needs_background": "light"
     },
     "output_type": "display_data"
    }
   ],
   "source": [
    "# We can have a look if length could be a good feature distinguishing ham and spam\n",
    "messages.hist(column='length', by='label', bins=100,figsize=(12,4))"
   ]
  },
  {
   "cell_type": "markdown",
   "id": "e00a3ad1",
   "metadata": {},
   "source": [
    "As described before, we need to preprocess the data such as converting the corpus to a vector format with for example the bag-of-words approach as well as split messages into individual words, remove punctuations by importing a list of English stopwords from NLTK and remove common words. "
   ]
  },
  {
   "cell_type": "code",
   "execution_count": 19,
   "id": "129f5540",
   "metadata": {},
   "outputs": [
    {
     "data": {
      "text/plain": [
       "0    [Go, jurong, point, crazy, Available, bugis, n...\n",
       "1                       [Ok, lar, Joking, wif, u, oni]\n",
       "2    [Free, entry, 2, wkly, comp, win, FA, Cup, fin...\n",
       "3        [U, dun, say, early, hor, U, c, already, say]\n",
       "4    [Nah, dont, think, goes, usf, lives, around, t...\n",
       "Name: message, dtype: object"
      ]
     },
     "execution_count": 19,
     "metadata": {},
     "output_type": "execute_result"
    }
   ],
   "source": [
    "import string\n",
    "from nltk.corpus import stopwords\n",
    "\n",
    "def text_process(mess):\n",
    "\n",
    "    # Check if punctuation is present\n",
    "    nopunc = [char for char in mess if char not in string.punctuation]\n",
    "\n",
    "    # Join the characters again to form the string.\n",
    "    nopunc = ''.join(nopunc)\n",
    "    \n",
    "    # Remove any stopwords\n",
    "    return [word for word in nopunc.split() if word.lower() not in stopwords.words('english')]\n",
    "\n",
    "# Look at the first five messages\n",
    "messages['message'].head(5).apply(text_process)"
   ]
  },
  {
   "cell_type": "markdown",
   "id": "98571da2",
   "metadata": {},
   "source": [
    "To convert the corpus to a vector format we will use CountVectorizer from Scikit Learn. We will have a matrix of two dimensions with the first dimension being the entire vocabulary (1 row per word) and the second dimension the actual document (a column per text message). "
   ]
  },
  {
   "cell_type": "code",
   "execution_count": 22,
   "id": "de05a430",
   "metadata": {},
   "outputs": [
    {
     "name": "stdout",
     "output_type": "stream",
     "text": [
      "11425\n",
      "Matrix Shape:  (5572, 11425)\n",
      "Non-zero occurences:  50548\n",
      "(5572, 11425)\n"
     ]
    }
   ],
   "source": [
    "from sklearn.feature_extraction.text import CountVectorizer\n",
    "\n",
    "bag_transformer = CountVectorizer(analyzer=text_process).fit(messages['message'])\n",
    "\n",
    "# Number of vocab words\n",
    "print(len(bag_transformer.vocabulary_))\n",
    "\n",
    "# Transform bag-of-words\n",
    "messages_bag = bag_transformer.transform(messages['message'])\n",
    "\n",
    "# Matrix size and amount of non-zero occurences\n",
    "print('Matrix Shape: ', messages_bag.shape)\n",
    "print('Non-zero occurences: ', messages_bag.nnz)\n",
    "\n",
    "# TF-IDF\n",
    "from sklearn.feature_extraction.text import TfidfTransformer\n",
    "tfidf_transformer = TfidfTransformer().fit(messages_bag)\n",
    "messages_tfidf = tfidf_transformer.transform(messages_bag)\n",
    "print(messages_tfidf.shape)"
   ]
  },
  {
   "cell_type": "markdown",
   "id": "f0d8ce77",
   "metadata": {},
   "source": [
    "Model training, prediction of test data and evaluate the model"
   ]
  },
  {
   "cell_type": "code",
   "execution_count": 23,
   "id": "d0a3ab64",
   "metadata": {},
   "outputs": [
    {
     "name": "stdout",
     "output_type": "stream",
     "text": [
      "['ham' 'ham' 'ham' ... 'spam' 'ham' 'ham']\n",
      "              precision    recall  f1-score   support\n",
      "\n",
      "         ham       0.97      1.00      0.98       977\n",
      "        spam       1.00      0.78      0.87       138\n",
      "\n",
      "    accuracy                           0.97      1115\n",
      "   macro avg       0.98      0.89      0.93      1115\n",
      "weighted avg       0.97      0.97      0.97      1115\n",
      "\n"
     ]
    }
   ],
   "source": [
    "from sklearn.model_selection import train_test_split\n",
    "from sklearn.naive_bayes import MultinomialNB\n",
    "\n",
    "# Split dataset\n",
    "from sklearn.model_selection import train_test_split\n",
    "X_train, X_test, y_train, y_test = \\\n",
    "train_test_split(messages_tfidf, messages['label'], test_size=0.2)\n",
    "\n",
    "# Model fit\n",
    "spam_detect_model = MultinomialNB().fit(X_train, y_train)\n",
    "\n",
    "# Predict testint data\n",
    "predictions = spam_detect_model.predict(X_test)\n",
    "print(predictions)\n",
    "\n",
    "from sklearn.metrics import classification_report\n",
    "print (classification_report(y_test, predictions))"
   ]
  },
  {
   "cell_type": "code",
   "execution_count": 24,
   "id": "104cafd7",
   "metadata": {},
   "outputs": [
    {
     "name": "stdout",
     "output_type": "stream",
     "text": [
      "['ham' 'ham' 'ham' ... 'ham' 'ham' 'ham']\n",
      "              precision    recall  f1-score   support\n",
      "\n",
      "         ham       0.98      1.00      0.99       975\n",
      "        spam       1.00      0.84      0.91       140\n",
      "\n",
      "    accuracy                           0.98      1115\n",
      "   macro avg       0.99      0.92      0.95      1115\n",
      "weighted avg       0.98      0.98      0.98      1115\n",
      "\n"
     ]
    }
   ],
   "source": [
    "from sklearn.model_selection import train_test_split\n",
    "from sklearn import svm\n",
    "\n",
    "# Split dataset\n",
    "from sklearn.model_selection import train_test_split\n",
    "X_train, X_test, y_train, y_test = \\\n",
    "train_test_split(messages_tfidf, messages['label'], test_size=0.2)\n",
    "\n",
    "# Model fit\n",
    "spam_detect_model = svm.SVC(kernel='linear').fit(X_train, y_train)\n",
    "\n",
    "# Predict testint data\n",
    "predictions = spam_detect_model.predict(X_test)\n",
    "print(predictions)\n",
    "\n",
    "from sklearn.metrics import classification_report\n",
    "print (classification_report(y_test, predictions))\n"
   ]
  },
  {
   "cell_type": "markdown",
   "id": "4482ca6d",
   "metadata": {},
   "source": [
    "# Sentiment Analysis"
   ]
  },
  {
   "cell_type": "code",
   "execution_count": 24,
   "id": "f72ff3a9",
   "metadata": {},
   "outputs": [
    {
     "name": "stderr",
     "output_type": "stream",
     "text": [
      "[nltk_data] Downloading package stopwords to /Users/xavi/nltk_data...\n",
      "[nltk_data]   Package stopwords is already up-to-date!\n"
     ]
    }
   ],
   "source": [
    "import pandas as pd\n",
    "import numpy as np\n",
    "import matplotlib.pyplot as plt\n",
    "\n",
    "import tweepy\n",
    "from textblob import TextBlob\n",
    "import re\n",
    "import nltk\n",
    "nltk.download('stopwords')\n",
    "from nltk.corpus import stopwords\n",
    "from nltk.stem.porter import PorterStemmer\n",
    "from wordcloud import WordCloud\n",
    "import json\n",
    "from collections import Counter\n",
    "\n",
    "# Keys and Access Token for authentification\n",
    "APIKey = \"BCbdlvnwBEXzERcobCUwqXv3b\"\n",
    "APIKeySecret = \"GLuhwmcT9vh6zXpaBuU6vD0DQVAMREPA9RFKHA5txr809Kq0UK\"\n",
    "accessToken = \"1596910891211149312-cNX0Bvz6p5AZMc8bDp9mlAIZ197Xpw\"\n",
    "accessTokenSecret = \"oI2wC8BrAc4KbnmPT6Fall3hSayJqIpUbvw84Hm5bZSb8\"\n",
    "bearer_token = \"AAAAAAAAAAAAAAAAAAAAAJM3jwEAAAAAFMudohrcQeIldPDzsF2TRbjJVME%3DhIlhlgtI1ed6MixDqmB3LqdW0vvVQs9Q1hhKzcfyf79Vttietp\"\n",
    "\n",
    "client = tweepy.Client(bearer_token=bearer_token)\n",
    "\n",
    "# Authentification\n",
    "#auth = tweepy.OAuthHandler(APIKey, APIKeySecret)\n",
    "#auth.set_access_token(accessToken, accessTokenSecret)\n",
    "#api = tweepy.API(auth)"
   ]
  },
  {
   "cell_type": "code",
   "execution_count": 30,
   "id": "14b7fa22",
   "metadata": {},
   "outputs": [
    {
     "ename": "AttributeError",
     "evalue": "'list' object has no attribute 'text'",
     "output_type": "error",
     "traceback": [
      "\u001b[0;31m---------------------------------------------------------------------------\u001b[0m",
      "\u001b[0;31mAttributeError\u001b[0m                            Traceback (most recent call last)",
      "\u001b[0;32m/var/folders/pd/4vnghq3579l_6xbflfl1hk180000gn/T/ipykernel_14395/1951054852.py\u001b[0m in \u001b[0;36m<module>\u001b[0;34m\u001b[0m\n\u001b[1;32m     15\u001b[0m \u001b[0mneu\u001b[0m \u001b[0;34m=\u001b[0m \u001b[0;36m0\u001b[0m\u001b[0;34m\u001b[0m\u001b[0;34m\u001b[0m\u001b[0m\n\u001b[1;32m     16\u001b[0m \u001b[0;32mfor\u001b[0m \u001b[0mtweet\u001b[0m \u001b[0;32min\u001b[0m \u001b[0mtweets\u001b[0m\u001b[0;34m:\u001b[0m\u001b[0;34m\u001b[0m\u001b[0;34m\u001b[0m\u001b[0m\n\u001b[0;32m---> 17\u001b[0;31m     \u001b[0manalysis\u001b[0m \u001b[0;34m=\u001b[0m \u001b[0mTextBlob\u001b[0m\u001b[0;34m(\u001b[0m\u001b[0mtweet\u001b[0m\u001b[0;34m.\u001b[0m\u001b[0mtext\u001b[0m\u001b[0;34m)\u001b[0m\u001b[0;34m\u001b[0m\u001b[0;34m\u001b[0m\u001b[0m\n\u001b[0m\u001b[1;32m     18\u001b[0m     \u001b[0;32mif\u001b[0m \u001b[0manalysis\u001b[0m\u001b[0;34m.\u001b[0m\u001b[0msentiment\u001b[0m\u001b[0;34m[\u001b[0m\u001b[0;36m0\u001b[0m\u001b[0;34m]\u001b[0m\u001b[0;34m>\u001b[0m\u001b[0;36m0\u001b[0m\u001b[0;34m:\u001b[0m\u001b[0;34m\u001b[0m\u001b[0;34m\u001b[0m\u001b[0m\n\u001b[1;32m     19\u001b[0m        \u001b[0mpos\u001b[0m \u001b[0;34m=\u001b[0m \u001b[0mpos\u001b[0m \u001b[0;34m+\u001b[0m\u001b[0;36m1\u001b[0m\u001b[0;34m\u001b[0m\u001b[0;34m\u001b[0m\u001b[0m\n",
      "\u001b[0;31mAttributeError\u001b[0m: 'list' object has no attribute 'text'"
     ]
    }
   ],
   "source": [
    "# Sentiment Analysis\n",
    "\n",
    "# Define the words to query and maximum number of tweets\n",
    "# The following code fetches the most recent 2500 mentions of '@fhollande'\n",
    "query = '@fhollande'\n",
    "max_tweets = 100\n",
    "#tweets = [status for status in tweepy.Cursor(api.search_tweets, q=query, lang=\"en\").items(max_tweets)]\n",
    "#tweets = tweepy.Cursor(api.search_tweets, q=query).items(max_tweets)\n",
    "tweets = client.search_recent_tweets(query=query, tweet_fields=['context_annotations', 'created_at'], max_results=max_tweets)\n",
    "\n",
    "\n",
    "#Finding sentiment analysis (+ve, -ve and neutral)\n",
    "pos = 0\n",
    "neg = 0\n",
    "neu = 0\n",
    "for tweet in tweets:\n",
    "    analysis = TextBlob(tweet.text)\n",
    "    if analysis.sentiment[0]>0:\n",
    "       pos = pos +1\n",
    "    elif analysis.sentiment[0]<0:\n",
    "       neg = neg + 1\n",
    "    else:\n",
    "       neu = neu + 1\n",
    "print(\"Total Positive = \", pos)\n",
    "print(\"Total Negative = \", neg)\n",
    "print(\"Total Neutral = \", neu)"
   ]
  },
  {
   "cell_type": "code",
   "execution_count": 28,
   "id": "e20e9018",
   "metadata": {},
   "outputs": [
    {
     "name": "stdout",
     "output_type": "stream",
     "text": [
      "Response(data=[<Tweet id=1596968033167499265 text='RT @savartcha: @Hebert7Jeanmarc @fhollande cette  députée n.est pas capable de parler par elle-même ; elle a besoin d’une interprète ! Comm…'>, <Tweet id=1596965998443499520 text=\"@N_de_Oliveira @LiliBrinderbe @RaphalLefebvre3 @VDuchaussoy @fhollande Au moins une chose qui nous rapproche concernant DG et moi qui te pensait plus éclairée politiquement  mais chacun ses choix. La mienne se fera toujours loin du populisme dont laquelle la gauche s'est engouffrée malheureusement avec LFI😉. Bisous😘\">, <Tweet id=1596965397638496258 text='@fhollande @salondesmaires @LaFrancesengage @app_elles @ComptoirCampagn @EnergiePartagee @LaClocheAsso @InSite_France https://t.co/UtDCNVlV1n'>, <Tweet id=1596965332328980481 text='@fhollande https://t.co/UtDCNVlV1n'>, <Tweet id=1596963409266085888 text='@saidasaadi7 @LiliBrinderbe @RaphalLefebvre3 @VDuchaussoy @fhollande C’est la seule chose juste que tu as pu écrire ce soir. Prends soin de toi.'>, <Tweet id=1596962057207046146 text='@fhollande @SynergieFamily https://t.co/syyWE3qxFL'>, <Tweet id=1596961383106908161 text='@fhollande @RouteDuRhum @LaFrancesengage @DUOforaJOB_FR @R_Entourage @LinkedOut @cafejoyeux @Lazare_fr @PDoudous @ThomasRuyant @tanguyleturquai @ArmelTriponSkip @nolwennfebvre https://t.co/RenlPOn20J'>, <Tweet id=1596961326123094016 text='@fhollande https://t.co/RenlPOn20J'>, <Tweet id=1596961268501729280 text='@fhollande https://t.co/RenlPOn20J'>, <Tweet id=1596961192756772864 text='@Cdanslair @fhollande @Caroline_Roux https://t.co/RenlPOn20J'>, <Tweet id=1596961126813552640 text='@fhollande @salondesmaires @LaFrancesengage @app_elles @ComptoirCampagn @EnergiePartagee @LaClocheAsso @InSite_France https://t.co/RenlPO4SMB'>, <Tweet id=1596960272882995202 text='@fhollande @SynergieFamily https://t.co/Jpi6KMStB0'>, <Tweet id=1596960199054888960 text='@fhollande Hollande : Tu seras juge! https://t.co/G427LLxzwW'>, <Tweet id=1596959954363371520 text='@fhollande https://t.co/8conpoG2AB'>, <Tweet id=1596959346625503234 text=\"@Phebus44 @AdresanSoso @EmmanuelMacron Moi aussi, on pensait qu'on avait touché le fond avec @fhollande mais en fait le pire nous attendait @EmmanuelMacron\">, <Tweet id=1596959177800585216 text='@Enthoven_R @C_litteraire @franctireurmag @CarolineFourest @fhollande @EtienneKlein @giulianode @demontaignetan https://t.co/EMebfciJdb'>, <Tweet id=1596959113111801857 text='@franctireurmag @CarolineFourest @fhollande @EtienneKlein @giulianode @demontaignetan https://t.co/EMebfciJdb'>, <Tweet id=1596958928083877889 text='@franctireurmag @CarolineFourest @fhollande @EtienneKlein @giulianode @demontaignetan https://t.co/B1Pyfq9iud'>, <Tweet id=1596956649549631488 text='@N_de_Oliveira @LiliBrinderbe @RaphalLefebvre3 @VDuchaussoy @fhollande Concernant Metz tu pourras remercier Dominique Gros qui a été incapable de désigner un successeur 😉. \"Après moi le déluge\" a du être sa devise'>, <Tweet id=1596955876757483521 text='@fhollande No coment! https://t.co/Gs105QxBQr'>, <Tweet id=1596955778358816768 text=\"Arrêtez de nous vendre du @jccambadelis @fhollande @SLeFoll #Valls nous n'en voulons plus, ils ont eu les rênes du pouvoir qu'en ont-ils fait, ils ont donné les clefs à @EmmanuelMacron &amp; #McKinsey  https://t.co/LrbncbAMEf\">, <Tweet id=1596955278096084994 text='@Cdanslair @fhollande @Caroline_Roux maconnerie secte satanique! https://t.co/9731De3ZFl'>, <Tweet id=1596954890793721857 text='@N_de_Oliveira @LiliBrinderbe @RaphalLefebvre3 @VDuchaussoy @fhollande *a été'>, <Tweet id=1596954809881759744 text='@N_de_Oliveira @LiliBrinderbe @RaphalLefebvre3 @VDuchaussoy @fhollande Décidément le mensonge est en marche. Cette gauche \"radicale\" été incapable d\\'attirer le vote des jeunes. Pour rafraîchir ta mémoire qui a l\\'air de te faire défaut malheureusement 😉\\n\\n https://t.co/BcNmTwXOpg'>, <Tweet id=1596954241058209794 text='@Cdanslair @fhollande @Caroline_Roux Valls la \"tremblotte\" condamné à 277 000 euros d\\'amende pour avoir financé illégalement sa campagne à Barcelone\\n\\nCelui la, on n\\'en entendra plus parler! Ouf!!! Les \"produits\" Hollande!'>, <Tweet id=1596954144300236800 text='@fhollande Valls la \"tremblotte\" condamné à 277 000 euros d\\'amende pour avoir financé illégalement sa campagne à Barcelone\\n\\nCelui la, on n\\'en entendra plus parler! Ouf!!! Les \"produits\" Hollande!'>, <Tweet id=1596954074599280640 text='@fhollande \\nValls la \"tremblotte\" condamné à 277 000 euros d\\'amende pour avoir financé illégalement sa campagne à Barcelone\\n\\nCelui la, on n\\'en entendra plus parler! Ouf!!! Les \"produits\" Hollande!'>, <Tweet id=1596951153706557440 text='RT @baronessedulac: 20/Ces informations en persan 👇rassemblées par @DTehrany \\n#Mahsa_Amini \\n#IranRevolution \\n\\n@afpfr @franceinfo @france_so…'>, <Tweet id=1596949616603574274 text=\"@Exlibris401 @ECiotti @_Gilets_Jaunes_ @EmmanuelMacron @jattali @fhollande @ZemmourEric Je me doute bien que ce M.Macron n'est pas votre tasse de thé 😉\\nCela dit je ne parle que de compétences, hors elles ne s’acquièrent qu'avec le temps, sur le terrain (AAA) et le nombre de gens de cette sorte ne sont pas nombreux. Voilà tout. Et @ZemmourEric a toute ma sympathie.\">, <Tweet id=1596947358667112451 text='@Refondations1 @partisocialiste @lamiaela Vous avez protégé @fhollande et @Valls Sapin Rebsamen @jccambadelis etc....et fabriqué Macron....'>, <Tweet id=1596944369957101568 text='@RaquelGarridoFr Vous avez soutenu et voté @fhollande et sa clique qui nous ont menés au presque chaos. Vous êtes complice.'>, <Tweet id=1596941011829555200 text='@FabriceDAndrea Plusieurs sujets même: les armes françaises qui tuent les enfants yemenites, le bombardement des civiles syriens par les vermines françaises en Raffale, les crimes de @fhollande et @NicolasSarkozy en Libye et au Mali &amp; surtout votre complicité de lâche français (un pleonasme)'>, <Tweet id=1596938719831130114 text=\"@N_de_Oliveira @LiliBrinderbe @RaphalLefebvre3 @VDuchaussoy @fhollande Malheureusement le PS est devenu complètement inaudible face au bruit et la fureur de LFI. Si je ne me trompe tu as été élue députée du Portugal sur un programme social-démocrate et aujourd'hui tu nous parles d'inventer autre chose en France. La schizophrénie a atteint le PS\">, <Tweet id=1596937039555223552 text=\"@N_de_Oliveira @LiliBrinderbe @RaphalLefebvre3 @VDuchaussoy @fhollande C'est marrant de trouver des alliés aujourd'hui qui hier ne voulaient rien entendre du travail des socialistes sur Metz par exemple. Vous croyez sincèrement que vous allez trouver une réponse avec Mélenchon et LFI. Dis moi qu'a fait Faure pendant 5 ans pour réinventer le PS. Rien\">, <Tweet id=1596933494319742976 text=\"@Anne_Hidalgo  C'est Tout comme Corruption en france @fhollande  et @EmmanuelMacron  un clan de la Corruption et de la drogue\">, <Tweet id=1596932863865552897 text=\"RT @SOSfonctionnair: 🔴 POLITIQUE/JUSTICE\\nL’ancien ministre @partisocialiste Manuel VALLS écope d'une amende de 277.000 € pour avoir accepté…\">, <Tweet id=1596929472959512576 text='RT @Hootimooti: Die #EU sollte das IRGC ASAP auf die Terrorliste setzen... @AuswaertigesAmt @n_roettgen @EmmanuelMacron @Bundeskanzler @fho…'>, <Tweet id=1596927396547940353 text='RT @OUZOUER: Si @faureolivier est réélu, ce sera une branlée pour les @PatrickKanner @fhollande @CaroleDelga @dassouline @lamiaela \\n@Anne_H…'>, <Tweet id=1596926570241097728 text='RT @Hootimooti: Die #EU sollte das IRGC ASAP auf die Terrorliste setzen... @AuswaertigesAmt @n_roettgen @EmmanuelMacron @Bundeskanzler @fho…'>, <Tweet id=1596924999470055425 text='RT @Tanguy_Cornec: @Fredisa04 Le PNF est un instrument gauchiste mis en place par @fhollande Les affaires de corruption #MacKinsey jugées p…'>, <Tweet id=1596922816737468417 text=\"@fabricearfi De premier ministre à délinquant !\\nNous n'oublions pas que c'est @fhollande (l'ennemi de la finance vous savez) qui a eu le très mauvais goût de le nommer à 2 reprises, à l'intérieur et en chef du gouvernement !\">, <Tweet id=1596920883989614592 text='@saidasaadi7 @LiliBrinderbe @RaphalLefebvre3 @VDuchaussoy @fhollande Le score de cette gauche «\\xa0radicale\\xa0» a gagné la confiance de la jeunesse en France au printemps dernier. À méditer, sur le fond, meme si je suis en désaccord sur certaines propositions. Au niveau national comme au niveau local,qui représente un espoir à  gauche ?'>, <Tweet id=1596919841633742848 text='@saidasaadi7 @LiliBrinderbe @RaphalLefebvre3 @VDuchaussoy @fhollande Au Portugal, je suis socialiste, comme ailleurs. La sociale démocratie a été une réponse mais je pense qu’il est grand temps d’inventer autre chose. Radicale, certainement, dans l’exercice des valeurs et des convictions que je défends.'>, <Tweet id=1596919320780902400 text=\"@grimont_emma @Quentin_Pk @DelaporteWandr1 @faureolivier @fhollande Arrête la fumette.Hollande ne fait plus de politique depuis 5 ans,Faure a fait quoi depuis? Rien,c'est un mauvais qui a aucune idée. Il faut arrêter d'accuser les autres si le PS et LR sont a la rue,c'est pas la faute de Macron si ils sont nuls.\">, <Tweet id=1596918196548009984 text=\"@bretonfish2 @Quentin_Pk @DelaporteWandr1 @faureolivier Non, Valls et Hollande ont mis à mal le PS pendant le quinquennat Hollande, et Macron a tout fait pour l'achever. En rejoignant la #Nupes @faureolivier a certainement vu une occasion de se départir de @fhollande et sa main-mise sur le parti pour axer le PS à nouveau à gauche\">, <Tweet id=1596917567792492544 text='@RaquelGarridoFr Il fait comme son copain @fhollande, qui en ayant été pire président que @NicolasSarkozy serait plus avisé de se terrer au fond de son trou a rats corrézien'>, <Tweet id=1596913907318378498 text='@Hootimooti @AuswaertigesAmt @n_roettgen @EmmanuelMacron @Bundeskanzler @fhollande @MLP_officiel آزادی \\nhttps://t.co/cw1ZXOmeiw\\nلطفاًصدای آزادی باشیم صدای آزادی دانشجویان آزادیخواه وحمایت سراسری ملی ازجوانان مبارز\\nاگربخاطرمنافع شخصی ومقاصد خودخواهانه و... فعال نباشیم؛اگرواقعا فعال آزادیخواه هستیم همراهی کنیم \\n#مهسا_امینی #اعتصابات_سراسری #فراخوان_۱۵_۱۶_۱۷_۱۸_سراسری'>, <Tweet id=1596908761108516865 text='@fcuvillier @HeleneGeoffroy On ne renie rien du tout @fcuvillier @HeleneGeoffroy, bien au contraire, on renaît après ces années @harlemdesir @jccambadeIis et @FHollande @valls qui nous ont achevés, total soutien à #olivierfaure 🌹🌹🌹'>, <Tweet id=1596906862422949894 text='@franctireurmag @CarolineFourest @fhollande @EtienneKlein @giulianode @demontaignetan Vu dans le rural...tout le monde évite le tireur..putain mais ça colle en plus...'>, <Tweet id=1596903482384322561 text='@Valeurs S’il avait 10 nationalités il se présenterait dans les 10 pays. @fhollande a été une catastrophe pour la France mais en plus il nous a mis Valls !'>, <Tweet id=1596903340641701889 text='RT @Hootimooti: Die #EU sollte das IRGC ASAP auf die Terrorliste setzen... @AuswaertigesAmt @n_roettgen @EmmanuelMacron @Bundeskanzler @fho…'>, <Tweet id=1596902044665024512 text='@Le_Figaro Balance Nono, @fhollande et @NicolasSarkozy aussi étaient corrompus par MacK et consorts ?'>, <Tweet id=1596901918764257280 text=\"C'est un travail de longue haleine après ces années @harlemdesir @jccambadeIis et @FHollande qui n'ont fait que détruire toujours un peu plus le #PS, ça ne se fait pas qu'avec des yaquas et des fautquon, total soutien à #olivierfaure 🌹🌹🌹 https://t.co/L0XS1OjCnC\">, <Tweet id=1596901003567185928 text='RT @YLeveque: @HeleneGeoffroy @RachidTemal @partisocialiste Vous avez été au pouvoir avec @fhollande résultats \\ndestruction de la fonction…'>, <Tweet id=1596900435805483010 text='@cmadrolle @wilfridpailhes @BenoitPayan @marseille @fhollande @MACarlotti @LoicGachon Il signe son livre'>, <Tweet id=1596899472973639680 text='RT @Hootimooti: Die #EU sollte das IRGC ASAP auf die Terrorliste setzen... @AuswaertigesAmt @n_roettgen @EmmanuelMacron @Bundeskanzler @fho…'>, <Tweet id=1596898802761609216 text='Die #EU sollte das IRGC ASAP auf die Terrorliste setzen... @AuswaertigesAmt @n_roettgen @EmmanuelMacron @Bundeskanzler @fhollande @MLP_officiel #MahsaAmini #IranRevoIution https://t.co/hUy5vbXc1i https://t.co/QcbYCQxajJ'>, <Tweet id=1596896525036449792 text='RT @ErolTulGuimauve: @NicolasMayerNMR 1- Personne ne sait qui t’es ! 2- Plus personne ne veut du PS des #SocialTraitres @fhollande @CaroleD…'>, <Tweet id=1596892774607228929 text='RT @laurenceputih: @BFMTV @GabrielAttal Comme pour la gestion du pays🇫🇷🤣😂🤣\\nCe sont les mêmes #Paris @Anne_Hidalgo ou @EmmanuelMacron des bé…'>, <Tweet id=1596887871620792320 text='RT @F_Michaeli: @Rita_Maalouf_ @partisocialiste @HeleneGeoffroy @DLesSocialistes Vous oubliez un peu vite que @MartineAubry reprit la tête…'>, <Tweet id=1596887827165642752 text='Ah tiens nous avons des nouvelles de la Hollandie, salut François @fhollande !! https://t.co/2vD6vWUg1q'>, <Tweet id=1596887009313714182 text='@franctireurmag @CarolineFourest @fhollande @EtienneKlein @giulianode @demontaignetan Que du beau linge qui sent bon la m....'>, <Tweet id=1596885769670766593 text='RT @Tanguy_Cornec: @Fredisa04 Le PNF est un instrument gauchiste mis en place par @fhollande Les affaires de corruption #MacKinsey jugées p…'>, <Tweet id=1596884271394074625 text='Gros succès hier à Arcachon pour @fhollande .\\nBeaucoup ont apprécié son sens de l humour . https://t.co/BJPUvsGsCG https://t.co/UwUAWTsvL8'>, <Tweet id=1596882739789459458 text=\"@edwyplenel Il n'a pas été Ministre de l'Intérieur çui là qui parlait de justice, de démocratie, de République, qui voulait faire travailler + les Français. Il n'avait pas été nommé 1er Ministre par #hollande @fhollande ? #Valls\">, <Tweet id=1596882661121069058 text='RT @OUZOUER: Si @faureolivier est réélu, ce sera une branlée pour les @PatrickKanner @fhollande @CaroleDelga @dassouline @lamiaela \\n@Anne_H…'>, <Tweet id=1596881395410145282 text=\"Ha ha pourriture de la République , celui qui a changé de camps de socialiste à la droite ultra libérale , macronniste , tout en manifestant aux côtés  l'extrême droite à Barcelone...je rappelle qu'il a été PM de @fhollande celui qui nous a apporté la loi libérale d'ELKHOMRI https://t.co/Y7xLupbkg8\">, <Tweet id=1596881379597615107 text='RT @labcddelapolit1: @Brevesdepresse @blast_france , @fhollande , @CaroleDelga , \\nLa team Hollande/Valls/Delga.\\nDes escrocs et/ou des mente…'>, <Tweet id=1596879547504660481 text=\"Pour l'#Iran Démocratique enchaînons-nous, camarades!\\n#IranRevoIution \\nhttps://t.co/n8MSq4Mvqw\\n@Macron_Manuel @FLOTFR @MAlliotMarie @ramayade @kouchner @fhollande @RoyalSegolene @secgen @Franc_Bogovic @JPMULLERMAGNY @AndreChassaigne @AmrAdelFahmy @MdeVaucouleurs @phgosselin @AFP\">, <Tweet id=1596872940767039488 text='RT @OUZOUER: Si @faureolivier est réélu, ce sera une branlée pour les @PatrickKanner @fhollande @CaroleDelga @dassouline @lamiaela \\n@Anne_H…'>, <Tweet id=1596872288133316608 text=\"RT @vieux_fusil: @ericrevel1 C'est donc l'influence électorale de 11000 encartés @EELV qui a entraîné le saccage de notre outil de producti…\">, <Tweet id=1596869439257018369 text='@MinuteLibre oui @RoyalSegolene @fhollande @Anne_Hidalgo'>, <Tweet id=1596867692090138624 text=\"@faureolivier  l'escroquerie @Anne_Hidalgo  @fhollande  2012 et 2017\">, <Tweet id=1596862324127993857 text='@faureolivier @lemondefr C’est beau. Mais encore ? Je rappelle que @fhollande et Manuel Valls ont laminé le PS en abandonnant leurs valeurs et leurs électeurs. Comment les reconquérir ? Plus personne n’est crédible et la crédibilité ne passe pas par un rang de vassal de @LFI et de @JLMelenchon'>, <Tweet id=1596861922494017537 text='RT @F_Michaeli: @Rita_Maalouf_ @partisocialiste @HeleneGeoffroy @DLesSocialistes Vous oubliez un peu vite que @MartineAubry reprit la tête…'>, <Tweet id=1596861793716285445 text='@fhollande  @2012 et 2017 @MichelJMartelly  @LaurentLamothe  Corruption @GilbertFHoungbo'>, <Tweet id=1596861576211857408 text=\"RT @AbdelLakhal1: @SudRadio A l'état qui détricote tout surtout la #macronie pour enrichir les + en + les riches son électorat et celui des…\">, <Tweet id=1596857245647925248 text=\"@JLGagnaire @pascalbolo @fhollande @partisocialiste @benoithamon @JLMelenchon Quand on a trahi son parti et qu'on s'est ensuite fait voler son courant on l'a ramene pas niveau confiance 🤣\">, <Tweet id=1596855340838309889 text='@SLeFoll @BCazeneuve @fhollande @jccambadelis @RachidTemal \\nC’est ça que votre motion défend.\\nY’a les mêmes mot dedans.\\nIl manque Macron. Du mensonge par omission. https://t.co/0DuVO8OfaA'>, <Tweet id=1596852106551775232 text=\"@N_de_Oliveira @LiliBrinderbe @RaphalLefebvre3 @VDuchaussoy @fhollande Et Faure qui se rêve à un destin présidentiel encore moins. Malheureusement aujourd'hui aux yeux des français la Nupes est LFI avec des petits partis satellites dont le petit PS\">, <Tweet id=1596851426856427520 text='@N_de_Oliveira @LiliBrinderbe @RaphalLefebvre3 @VDuchaussoy @fhollande LFI ne fait un bon score que pendant les présidentielles et grâce à Mélenchon. Combien ce parti représente localement. Veux tu que je te rappelle les chiffres à Metz. Croire que le PS prendra un jour le leadership de cette Nupes est une erreur.'>, <Tweet id=1596850029431775237 text='RT @JLGagnaire: @pascalbolo @fhollande @partisocialiste Comment faire confiance à Olivier #Faure qui a été le porte-serviette de @fhollande…'>, <Tweet id=1596849744680456197 text='@BFMTV @GabrielAttal Comme pour la gestion du pays🇫🇷🤣😂🤣\\nCe sont les mêmes #Paris @Anne_Hidalgo ou @EmmanuelMacron des bébés de #Gauche généreux avec les #impots des🇫🇷🤬🤮🤬\\nComme disait le piètre @fhollande : \"c\\'est GRATUIT c\\'est l\\'état qui paie\" 🤬\\n\\n#hdpros #GGRMC #Punchline'>, <Tweet id=1596849587670556673 text='@N_de_Oliveira @LiliBrinderbe @RaphalLefebvre3 @VDuchaussoy @fhollande Je sais très bien qui tu es. Social-démocrate au Portugal et rattachée au radicalisme depuis la création de cette Nupes. Je suis persuadée que des camarades socialistes auraient sauvés leurs places de députés rien que par leurs travails sur le terrain 😉'>, <Tweet id=1596849233306460164 text='RT @ErolTulGuimauve: @NicolasMayerNMR 1- Personne ne sait qui t’es ! 2- Plus personne ne veut du PS des #SocialTraitres @fhollande @CaroleD…'>, <Tweet id=1596848407779344386 text='RT @fhollande: Situation du monde, vie politique et institutionnelle de notre pays dont ils se sentent souvent trop éloignés, quotidien d’u…'>, <Tweet id=1596848233577431041 text='@grib65 @fhollande @EmmanuelMacron Y’a https://t.co/T1x7NEZGZH'>, <Tweet id=1596847952508899329 text='RT @ErolTulGuimauve: @NicolasMayerNMR 1- Personne ne sait qui t’es ! 2- Plus personne ne veut du PS des #SocialTraitres @fhollande @CaroleD…'>, <Tweet id=1596844817094692865 text='@P_Soleilh @GINISTY11 @fhollande Au secours, Hollande revient!'>, <Tweet id=1596844428177461248 text=\"RT @vieux_fusil: @ericrevel1 C'est donc l'influence électorale de 11000 encartés @EELV qui a entraîné le saccage de notre outil de producti…\">, <Tweet id=1596844253191188480 text='@Brevesdepresse @blast_france , @fhollande , @CaroleDelga , \\nLa team Hollande/Valls/Delga.\\nDes escrocs et/ou des menteurs !'>, <Tweet id=1596842663718047745 text='@saidasaadi7 @LiliBrinderbe @RaphalLefebvre3 @VDuchaussoy @fhollande je suis socialiste, pas LFI. Il n’y a rien d’affectif, ici, y compris vis-à-vis de F. Hollande. Mélenchon est sur la fin mais il aura permis une “alliance” et en sauver une trentaine de camarades. Sans l’accord de la NUPES, point de salut. F. Hollande, c’est fini.'>, <Tweet id=1596840879724978176 text='@NicolasMayerNMR 1- Personne ne sait qui t’es ! 2- Plus personne ne veut du PS des #SocialTraitres @fhollande @CaroleDelga @SLeFoll @BCazeneuve ! Vous avez mené des politiques de droite qd vous étiez au pouvoir, avez trahi tous les électeurs de gauche et presque tué le PS. #disparaissez'>, <Tweet id=1596838683386281985 text=\"@Guy2Michel @BrunoRetailleau @RoyalSegolene Effectivement ce ne serait pas un compliment... mais en l'occurrence il a parfaitement raison. Qui a poursuivi le travail de sape du nucléaire français initié par @fhollande sinon @EmmanuelMacron ?\">, <Tweet id=1596837277967478786 text='RT @OUZOUER: Si @faureolivier est réélu, ce sera une branlée pour les @PatrickKanner @fhollande @CaroleDelga @dassouline @lamiaela \\n@Anne_H…'>, <Tweet id=1596837137860919296 text='@fhollande I am a woman first of all serious sincere and truthful also and then I am a caring woman kind generous nice cool open to any discussion and above all very respectful'>, <Tweet id=1596835159071854594 text='@fhollande @SynergieFamily tu as beau faire du racolage, personne ne crois plus en toi! prends ton scooter et va faire un tour!'>, <Tweet id=1596834805072949251 text='RT @OUZOUER: Si @faureolivier est réélu, ce sera une branlée pour les @PatrickKanner @fhollande @CaroleDelga @dassouline @lamiaela \\n@Anne_H…'>, <Tweet id=1596834132633714688 text='RT @OUZOUER: Si @faureolivier est réélu, ce sera une branlée pour les @PatrickKanner @fhollande @CaroleDelga @dassouline @lamiaela \\n@Anne_H…'>, <Tweet id=1596832997751533570 text=\"@cambadelis @fhollande @pierremoscovici et tous les socialo de droite dégagez laisser le PS et allez chez Macron. Vous n'êtes pas de gauche ! https://t.co/5i4QtES9L6\">], includes={}, errors=[], meta={'newest_id': '1596968033167499265', 'oldest_id': '1596832997751533570', 'result_count': 100, 'next_token': 'b26v89c19zqg8o3fpzhlr19ps7ppl5ip2zlozca6xtg8t'})\n"
     ]
    },
    {
     "ename": "AttributeError",
     "evalue": "'list' object has no attribute 'full_text'",
     "output_type": "error",
     "traceback": [
      "\u001b[0;31m---------------------------------------------------------------------------\u001b[0m",
      "\u001b[0;31mAttributeError\u001b[0m                            Traceback (most recent call last)",
      "\u001b[0;32m/var/folders/pd/4vnghq3579l_6xbflfl1hk180000gn/T/ipykernel_14395/1598541505.py\u001b[0m in \u001b[0;36m<module>\u001b[0;34m\u001b[0m\n\u001b[1;32m     22\u001b[0m \u001b[0;34m\u001b[0m\u001b[0m\n\u001b[1;32m     23\u001b[0m \u001b[0;32mfor\u001b[0m \u001b[0mtweet\u001b[0m \u001b[0;32min\u001b[0m \u001b[0mtweets\u001b[0m\u001b[0;34m:\u001b[0m\u001b[0;34m\u001b[0m\u001b[0;34m\u001b[0m\u001b[0m\n\u001b[0;32m---> 24\u001b[0;31m     \u001b[0mtweet_list\u001b[0m\u001b[0;34m.\u001b[0m\u001b[0mappend\u001b[0m\u001b[0;34m(\u001b[0m\u001b[0mtweet\u001b[0m\u001b[0;34m.\u001b[0m\u001b[0mfull_text\u001b[0m\u001b[0;34m)\u001b[0m\u001b[0;34m\u001b[0m\u001b[0;34m\u001b[0m\u001b[0m\n\u001b[0m\u001b[1;32m     25\u001b[0m     \u001b[0manalysis\u001b[0m \u001b[0;34m=\u001b[0m \u001b[0mTextBlob\u001b[0m\u001b[0;34m(\u001b[0m\u001b[0mtweet\u001b[0m\u001b[0;34m.\u001b[0m\u001b[0mtext\u001b[0m\u001b[0;34m)\u001b[0m\u001b[0;34m\u001b[0m\u001b[0;34m\u001b[0m\u001b[0m\n\u001b[1;32m     26\u001b[0m     \u001b[0mscore\u001b[0m \u001b[0;34m=\u001b[0m \u001b[0mSentimentIntensityAnalyzer\u001b[0m\u001b[0;34m(\u001b[0m\u001b[0;34m)\u001b[0m\u001b[0;34m.\u001b[0m\u001b[0mpolarity_scores\u001b[0m\u001b[0;34m(\u001b[0m\u001b[0mtweet\u001b[0m\u001b[0;34m.\u001b[0m\u001b[0mtext\u001b[0m\u001b[0;34m)\u001b[0m\u001b[0;34m\u001b[0m\u001b[0;34m\u001b[0m\u001b[0m\n",
      "\u001b[0;31mAttributeError\u001b[0m: 'list' object has no attribute 'full_text'"
     ]
    }
   ],
   "source": [
    "# Sentiment Analysis\n",
    "\n",
    "# Define the words to query and maximum number of tweets\n",
    "# The following code fetches the most recent 2500 mentions of '@fhollande'\n",
    "query = '@fhollande'\n",
    "max_tweets = 100\n",
    "#tweets = [status for status in tweepy.Cursor(api.search_tweets, q=query, lang=\"en\").items(max_tweets)]\n",
    "#tweets = tweepy.Cursor(api.search_tweets, q=query).items(max_tweets)\n",
    "tweets = client.search_recent_tweets(query=query, tweet_fields=['context_annotations', 'created_at'], max_results=max_tweets)\n",
    "\n",
    "print(tweets)\n",
    "# Let's determine if comments are more positive, negative or neutral\n",
    "positive = 0\n",
    "negative = 0\n",
    "neutral = 0\n",
    "polarity = 0\n",
    "\n",
    "tweet_list    = []\n",
    "neutral_list  = []\n",
    "negative_list = []\n",
    "positive_list = []\n",
    "\n",
    "for tweet in tweets:\n",
    "    tweet_list.append(tweet.text)\n",
    "    analysis = TextBlob(tweet.text)\n",
    "    score = SentimentIntensityAnalyzer().polarity_scores(tweet.text)\n",
    "    neg = score['neg']\n",
    "    neu = score['neu']\n",
    "    pos = score['pos']\n",
    "    comp = score['compound']\n",
    "    polarity += analysis.sentiment.polarity\n",
    " \n",
    "    if neg > pos:\n",
    "        negative_list.append(tweet.text)\n",
    "        negative += 1\n",
    "    elif pos > neg:\n",
    "        positive_list.append(tweet.text)\n",
    "        positive += 1\n",
    "    elif pos == neg:\n",
    "        neutral_list.append(tweet.text)\n",
    "        neutral += 1\n",
    "  \n",
    "# Calculate the percentage\n",
    "positive =  100 * (positive / max_tweets)\n",
    "negative =  100 * (negative / max_tweets)\n",
    "neutral  =  100 * (neutral  / max_tweets)\n",
    "polarity =  100 * (polarity / max_tweets)\n",
    "\n",
    "positive = format(positive, '.1f')\n",
    "negative = format(negative, '.1f')\n",
    "neutral  = format(neutral, '.1f')\n",
    "\n",
    "tweet_list    = pd.DataFrame(tweet_list)\n",
    "neutral_list  = pd.DataFrame(neutral_list)\n",
    "negative_list = pd.DataFrame(negative_list)\n",
    "positive_list = pd.DataFrame(positive_list)\n",
    "\n",
    "print(\"total number: \",len(tweet_list))\n",
    "print(\"positive number: \",len(positive_list))\n",
    "print(\"negative number: \", len(negative_list))\n",
    "print(\"neutral number: \",len(neutral_list))"
   ]
  },
  {
   "cell_type": "code",
   "execution_count": null,
   "id": "afc26586",
   "metadata": {},
   "outputs": [],
   "source": [
    "# Repartition visualization\n",
    "\n",
    "labels = [‘Positive [‘+str(positive)+’%]’ , ‘Neutral [‘+str(neutral)+’%]’,’Negative [‘+str(negative)+’%]’]\n",
    "sizes = [positive, neutral, negative]\n",
    "colors = [‘yellowgreen’, ‘blue’,’red’]\n",
    "patches, texts = plt.pie(sizes,colors=colors, startangle=90)\n",
    "plt.style.use(‘default’)\n",
    "plt.legend(labels)\n",
    "plt.title(“Sentiment Analysis Result for keyword= “+keyword+”” )\n",
    "plt.axis(‘equal’)\n",
    "plt.show()"
   ]
  }
 ],
 "metadata": {
  "kernelspec": {
   "display_name": "Python 3 (ipykernel)",
   "language": "python",
   "name": "python3"
  },
  "language_info": {
   "codemirror_mode": {
    "name": "ipython",
    "version": 3
   },
   "file_extension": ".py",
   "mimetype": "text/x-python",
   "name": "python",
   "nbconvert_exporter": "python",
   "pygments_lexer": "ipython3",
   "version": "3.9.7"
  }
 },
 "nbformat": 4,
 "nbformat_minor": 5
}
